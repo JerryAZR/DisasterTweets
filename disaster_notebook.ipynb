{
 "cells": [
  {
   "cell_type": "code",
   "execution_count": null,
   "metadata": {},
   "outputs": [
    {
     "evalue": "Error: Jupyter server crashed. Unable to connect. \r\nError code from jupyter: 4294967295",
     "output_type": "error"
    }
   ],
   "source": [
    "# This Python 3 environment comes with many helpful analytics libraries installed\n",
    "# It is defined by the kaggle/python docker image: https://github.com/kaggle/docker-python\n",
    "# For example, here's several helpful packages to load in\n",
    "\n",
    "import numpy as napi # linear algebra\n",
    "import pandas as pd # data processing, CSV file I/O (e.g. pd.read_csv)\n",
    "from sklearn.model_selection import train_test_split\n",
    "# Input data files are available in the \"../input/\" directory.\n",
    "\n",
    "# IF on kaggle Notebook:\n",
    "# sample_submission = pd.read_csv(\"../input/nlp-getting-started/sample_submission.csv\")\n",
    "# test = pd.read_csv(\"../input/nlp-getting-started/test.csv\")\n",
    "# train = pd.read_csv(\"../input/nlp-getting-started/train.csv\")\n",
    "\n",
    "# IF on local environment:\n",
    "sample_submission = pd.read_csv(\"sample_submission.csv\")\n",
    "test = pd.read_csv(\"test.csv\")\n",
    "train = pd.read_csv(\"train.csv\")"
   ]
  },
  {
   "cell_type": "code",
   "execution_count": null,
   "metadata": {},
   "outputs": [
    {
     "evalue": "Error: Jupyter server crashed. Unable to connect. \r\nError code from jupyter: 4294967295",
     "output_type": "error"
    }
   ],
   "source": [
    "X = train.iloc[:, 1:-1]\n",
    "y = train[\"target\"]\n",
    "X_train, X_test, y_train, y_test = train_test_split(X, y, test_size=0.1, random_state=42)\n",
    "X.head()\n"
   ]
  },
  {
   "cell_type": "code",
   "execution_count": null,
   "metadata": {},
   "outputs": [
    {
     "evalue": "Error: Jupyter notebook failed to launch. \r\nError: The Jupyter notebook server failed to launch in time",
     "output_type": "error"
    }
   ],
   "source": [
    "# keyword dictionary\n",
    "keyword_arr = X_train.iloc[:,0].values\n",
    "keyword_arr = keyword_arr[~pd.isnull(keyword_arr)]\n",
    "print(keyword_arr.size)\n",
    "keyword_arr = napi.unique(keyword_arr)\n",
    "keyword_arr.sort()\n",
    "print(keyword_arr.size)\n",
    "KEYWORD_ARRAY_SIZE = keyword_arr.size\n",
    "\n",
    "# Convert keywords to feature vectors\n",
    "keyword_features = pd.get_dummies(X_train.iloc[:,0])\n",
    "keyword_features.head()\n",
    "keyword_features.shape  # 221\n",
    "\n",
    "'''\n",
    "keyword_to_vector\n",
    "Description: one-hot encode a keyword\n",
    "Inputs: key -- keyword to convert (string)\n",
    "         keyword_arr -- \"dictionary\" to be used (sorted array of strings)\n",
    "                        Always use keyword_arr in this project\n",
    "Returns: a feature vector (arrat of ints, 0 or 1)\n",
    "'''\n",
    "def keyword_to_vector(key, keyword_arr):\n",
    "    feature_vect_bool = (keyword_arr == key)\n",
    "    feature_vect = 1 * feature_vect_bool\n",
    "    return feature_vect\n",
    "    \n",
    "# print(keyword_to_vector(\"ablaze\", keyword_arr))"
   ]
  },
  {
   "cell_type": "code",
   "execution_count": null,
   "metadata": {},
   "outputs": [
    {
     "evalue": "Error: Jupyter notebook failed to launch. \r\nError: The Jupyter notebook server failed to launch in time",
     "output_type": "error"
    }
   ],
   "source": [
    "# location dictionary\n",
    "location_arr = X_train.iloc[:,1].values\n",
    "location_arr = location_arr[~pd.isnull(location_arr)]\n",
    "print(location_arr.size)\n",
    "location_arr = napi.unique(location_arr)\n",
    "print(location_arr.size)\n",
    "LOCATION_ARRAY_SIZE = location_arr.size\n",
    "# print(location_arr)\n",
    "\n",
    "\n",
    "############################################\n",
    "# Need a better way to handle location\n",
    "############################################"
   ]
  },
  {
   "cell_type": "code",
   "execution_count": null,
   "metadata": {},
   "outputs": [],
   "source": [
    "# TODO: Build a dictionary on text\n",
    "sentences = X_train['text'].tolist()\n",
    "cv = CountVectorizer(min_df=0.01)\n",
    "X = cv.fit_transform(sentences).toarray(float)\n",
    "print(cv.vocabulary_)\n",
    "print(X[100])"
   ]
  }
 ],
 "metadata": {
  "kernelspec": {
   "display_name": "Python 3",
   "language": "python",
   "name": "python3"
  },
  "language_info": {
   "codemirror_mode": {
    "name": "ipython",
    "version": 3
   },
   "file_extension": ".py",
   "mimetype": "text/x-python",
   "name": "python",
   "nbconvert_exporter": "python",
   "pygments_lexer": "ipython3",
   "version": "3.7.1"
  }
 },
 "nbformat": 4,
 "nbformat_minor": 2
}