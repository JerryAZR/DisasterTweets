{
 "cells": [
  {
   "cell_type": "code",
   "execution_count": 1,
   "metadata": {},
   "outputs": [],
   "source": [
    "# This Python 3 environment comes with many helpful analytics libraries installed\n",
    "# It is defined by the kaggle/python docker image: https://github.com/kaggle/docker-python\n",
    "# For example, here's several helpful packages to load in\n",
    "import numpy as napi # linear algebra\n",
    "import pandas as pd # data processing, CSV file I/O (e.g. pd.read_csv)\n",
    "from sklearn.model_selection import train_test_split, cross_validate\n",
    "from sklearn.feature_extraction.text import CountVectorizer\n",
    "from sklearn.svm import SVC\n",
    "from sklearn.decomposition import PCA\n",
    "import matplotlib.pyplot as plt"
   ]
  },
  {
   "cell_type": "code",
   "execution_count": 26,
   "metadata": {},
   "outputs": [],
   "source": [
    "from nltk.stem import PorterStemmer, LancasterStemmer"
   ]
  },
  {
   "cell_type": "code",
   "execution_count": 2,
   "metadata": {},
   "outputs": [
    {
     "name": "stdout",
     "output_type": "stream",
     "text": [
      "loading data\n"
     ]
    },
    {
     "data": {
      "text/html": [
       "<div>\n",
       "<style scoped>\n",
       "    .dataframe tbody tr th:only-of-type {\n",
       "        vertical-align: middle;\n",
       "    }\n",
       "\n",
       "    .dataframe tbody tr th {\n",
       "        vertical-align: top;\n",
       "    }\n",
       "\n",
       "    .dataframe thead th {\n",
       "        text-align: right;\n",
       "    }\n",
       "</style>\n",
       "<table border=\"1\" class=\"dataframe\">\n",
       "  <thead>\n",
       "    <tr style=\"text-align: right;\">\n",
       "      <th></th>\n",
       "      <th>keyword</th>\n",
       "      <th>location</th>\n",
       "      <th>text</th>\n",
       "    </tr>\n",
       "  </thead>\n",
       "  <tbody>\n",
       "    <tr>\n",
       "      <th>0</th>\n",
       "      <td>NaN</td>\n",
       "      <td>NaN</td>\n",
       "      <td>Our Deeds are the Reason of this #earthquake M...</td>\n",
       "    </tr>\n",
       "    <tr>\n",
       "      <th>1</th>\n",
       "      <td>NaN</td>\n",
       "      <td>NaN</td>\n",
       "      <td>Forest fire near La Ronge Sask. Canada</td>\n",
       "    </tr>\n",
       "    <tr>\n",
       "      <th>2</th>\n",
       "      <td>NaN</td>\n",
       "      <td>NaN</td>\n",
       "      <td>All residents asked to 'shelter in place' are ...</td>\n",
       "    </tr>\n",
       "    <tr>\n",
       "      <th>3</th>\n",
       "      <td>NaN</td>\n",
       "      <td>NaN</td>\n",
       "      <td>13,000 people receive #wildfires evacuation or...</td>\n",
       "    </tr>\n",
       "    <tr>\n",
       "      <th>4</th>\n",
       "      <td>NaN</td>\n",
       "      <td>NaN</td>\n",
       "      <td>Just got sent this photo from Ruby #Alaska as ...</td>\n",
       "    </tr>\n",
       "  </tbody>\n",
       "</table>\n",
       "</div>"
      ],
      "text/plain": [
       "  keyword location                                               text\n",
       "0     NaN      NaN  Our Deeds are the Reason of this #earthquake M...\n",
       "1     NaN      NaN             Forest fire near La Ronge Sask. Canada\n",
       "2     NaN      NaN  All residents asked to 'shelter in place' are ...\n",
       "3     NaN      NaN  13,000 people receive #wildfires evacuation or...\n",
       "4     NaN      NaN  Just got sent this photo from Ruby #Alaska as ..."
      ]
     },
     "execution_count": 2,
     "metadata": {},
     "output_type": "execute_result"
    }
   ],
   "source": [
    "# Input data files are available in the \"../input/\" directory.\n",
    "print(\"loading data\")\n",
    "sample_submission = pd.read_csv(\"sample_submission.csv\")\n",
    "test = pd.read_csv(\"test.csv\")\n",
    "train = pd.read_csv(\"train.csv\")\n",
    "\n",
    "X = train.iloc[:, 1:-1]\n",
    "y = train[\"target\"]\n",
    "X_train, X_test, y_train, y_test = train_test_split(X, y, test_size=0.1, random_state=42)\n",
    "X.head()"
   ]
  },
  {
   "cell_type": "code",
   "execution_count": 3,
   "metadata": {},
   "outputs": [
    {
     "name": "stdout",
     "output_type": "stream",
     "text": [
      "length of keyword feature vector 221\n"
     ]
    }
   ],
   "source": [
    "# keyword dictionary\n",
    "# Could instead use a CountVectorizer\n",
    "keyword_col = X_train[\"keyword\"]\n",
    "keyword_not_null = keyword_col[keyword_col.notnull()]\n",
    "keyword_arr = keyword_not_null.values\n",
    "# keyword_arr = keyword_arr[keyword_arr.notnull()]\n",
    "# print(keyword_arr.size)\n",
    "keyword_arr = napi.unique(keyword_arr)\n",
    "# print(keyword_arr.size)\n",
    "KEYWORD_ARRAY_SIZE = keyword_arr.size\n",
    "\n",
    "# TODO: Convert keywords to feature vectors\n",
    "keyword_features = pd.get_dummies(X_train.iloc[:,0]).values\n",
    "# print(\"keyword_features shape: \", keyword_features.shape)\n",
    "print(\"length of keyword feature vector\", KEYWORD_ARRAY_SIZE)  # 221\n",
    "\n",
    "'''\n",
    "keyword_to_vector\n",
    "Description: one-hot encode a keyword\n",
    "Inputs: key -- keyword to convert (string)\n",
    "         keyword_arr -- \"dictionary\" to be used (sorted array of strings)\n",
    "                        Always use keyword_arr in this project\n",
    "Returns: a feature vector (arrat of ints, 0 or 1)\n",
    "'''\n",
    "def keyword_to_vector(key, keyword_arr):\n",
    "    if pd.isna(key):\n",
    "        return napi.zeros(len(keyword_arr))\n",
    "    feature_vect_bool = (keyword_arr == key)\n",
    "    feature_vect = 1 * feature_vect_bool\n",
    "    return feature_vect\n",
    "\n",
    "\n",
    "# CountVectorizer Approach:\n",
    "# keywords = X_train['text'].tolist()\n",
    "# keyword_cv = CountVectorizer()\n",
    "# keyword_vect = keyword_cv.fit_transform(keywords).toarray(float)    \n",
    "# print(keyword_to_vector(\"ablaze\", keyword_arr))\n",
    "\n",
    "# Skip this part now (ignore location)\n",
    "# # location dictionary\n",
    "# location_arr = X_train[\"location\"][X_train[\"location\"].notnull()].values\n",
    "# # location_arr = location_arr[location_arr.notnull()]\n",
    "# print(location_arr.size)\n",
    "# location_arr = napi.unique(location_arr)\n",
    "# print(location_arr.size)\n",
    "# LOCATION_ARRAY_SIZE = location_arr.size\n",
    "# # print(location_arr)\n"
   ]
  },
  {
   "cell_type": "code",
   "execution_count": 45,
   "metadata": {},
   "outputs": [
    {
     "name": "stdout",
     "output_type": "stream",
     "text": [
      "(6851, 1)\n"
     ]
    }
   ],
   "source": [
    "# NOTE: Try to decrease number of features associated with keywords\n",
    "keyword_dict = {}\n",
    "# Right now we are using the entire training set (including train, cv, test) to do this;\n",
    "# This is NOT good practice, but we may leave it because we are lazy.\n",
    "keyword_full_arr = keyword_col = train[[\"keyword\",\"target\"]].values\n",
    "stemmer = PorterStemmer() # could also try other stemmers\n",
    "# print(keyword_full_arr)\n",
    "for pair in keyword_full_arr:\n",
    "    if pd.isna(pair[0]):\n",
    "        stemmed_key = napi.nan\n",
    "    else:\n",
    "        stemmed_key = stemmer.stem(pair[0])\n",
    "    \n",
    "    if stemmed_key not in keyword_dict:\n",
    "        keyword_dict[stemmed_key] = [0,0]\n",
    "    keyword_dict[stemmed_key][0] += pair[1]\n",
    "    keyword_dict[stemmed_key][1] += 1\n",
    "    \n",
    "# print(keyword_dict)\n",
    "# print(len(keyword_dict))\n",
    "\n",
    "# print(keyword_dict.values())\n",
    "\n",
    "# Next, transform keywords to numerical values:\n",
    "numerical_keyword_features = []\n",
    "for keyword in X_train[\"keyword\"].values:\n",
    "    if pd.isna(keyword):\n",
    "        key = napi.nan\n",
    "    else:\n",
    "        key = stemmer.stem(keyword)\n",
    "    \n",
    "    numerical_keyword_features.append(keyword_dict[key][0]/keyword_dict[key][1])\n",
    "\n",
    "numerical_keyword_features = (napi.array(numerical_keyword_features)).reshape(-1,1)\n",
    "print(numerical_keyword_features.shape)"
   ]
  },
  {
   "cell_type": "code",
   "execution_count": 38,
   "metadata": {},
   "outputs": [
    {
     "name": "stdout",
     "output_type": "stream",
     "text": [
      "length of text feature vector:  2175\n"
     ]
    }
   ],
   "source": [
    "\n",
    "# TODO: Build a dictionary on text\n",
    "sentences = X_train['text'].tolist()\n",
    "cv = CountVectorizer(min_df=0.0008)\n",
    "text_features = cv.fit_transform(sentences).toarray(float)\n",
    "# print(len(sentences))\n",
    "# print(cv.vocabulary_)\n",
    "# print(text_features[100])\n",
    "print(\"length of text feature vector: \", len(cv.get_feature_names()))\n"
   ]
  },
  {
   "cell_type": "code",
   "execution_count": 46,
   "metadata": {},
   "outputs": [
    {
     "name": "stdout",
     "output_type": "stream",
     "text": [
      "(6851, 221) (6851, 2175)\n",
      "(6851, 2176)\n"
     ]
    }
   ],
   "source": [
    "\n",
    "# merge all the features:\n",
    "print(keyword_features.shape, text_features.shape)\n",
    "All_features = napi.concatenate((numerical_keyword_features, text_features), axis=1)\n",
    "print(All_features.shape)"
   ]
  },
  {
   "cell_type": "code",
   "execution_count": 47,
   "metadata": {},
   "outputs": [
    {
     "name": "stdout",
     "output_type": "stream",
     "text": [
      "Doing PCA...\n",
      "n components:  1151\n"
     ]
    }
   ],
   "source": [
    "# Apply PCA if necessary\n",
    "print(\"Doing PCA...\")\n",
    "pca = PCA(0.95)\n",
    "pca.fit(All_features)\n",
    "PCA(copy=True, iterated_power='auto', random_state=42, svd_solver='auto', tol=0.0)\n",
    "\n",
    "train_X_pca = pca.transform(All_features)\n",
    "print(\"n components: \", pca.n_components_)"
   ]
  },
  {
   "cell_type": "code",
   "execution_count": 49,
   "metadata": {},
   "outputs": [
    {
     "name": "stdout",
     "output_type": "stream",
     "text": [
      "{'fit_time': array([21.99435639, 22.20287919, 22.42193151]), 'score_time': array([10.21057177, 10.32464886, 10.29132986]), 'test_score': array([0.72190035, 0.74901297, 0.72675737]), 'train_score': array([0.77115275, 0.7673699 , 0.77119365])}\n"
     ]
    }
   ],
   "source": [
    "'''\n",
    "Without PCA:\n",
    "'fit_time': array([48.45315099, 49.18679333, 49.14396572]), \n",
    "'score_time': array([22.64499092, 23.42073154, 23.34550667]), \n",
    "'test_score': array([0.64055591, 0.68082524, 0.67186563]), \n",
    "'train_score': array([0.70620605, 0.69862595, 0.71303824])}\n",
    "'''\n",
    "\n",
    "'''\n",
    "with PCA\n",
    "using numerical_keyword_features\n",
    "svm_C = 1\n",
    "svm_kernel = \"rbf\"\n",
    "svm_gamma = \"scale\" # \"auto\" or \"scale\"\n",
    "\n",
    "'fit_time': array([21.40067339, 21.66516542, 21.43422079]), \n",
    "'score_time': array([ 9.91457796, 10.0454669 ,  9.95311713]), \n",
    "'test_score': array([0.72622478, 0.75140607, 0.72983644]), \n",
    "'train_score': array([0.7757987 , 0.77254902, 0.77514124])\n",
    "'''\n",
    "svm_C = 1\n",
    "svm_kernel = \"rbf\"\n",
    "svm_gamma = \"scale\" # \"auto\" or \"scale\"\n",
    "svm_1 = SVC(C=svm_C, kernel=svm_kernel, gamma=svm_gamma)\n",
    "score_1 = cross_validate(svm_1, train_X_pca, y_train, cv=3, scoring=\"f1\")\n",
    "print(score_1)\n",
    "\n"
   ]
  }
 ],
 "metadata": {
  "kernelspec": {
   "display_name": "Python 3",
   "language": "python",
   "name": "python3"
  },
  "language_info": {
   "codemirror_mode": {
    "name": "ipython",
    "version": 3
   },
   "file_extension": ".py",
   "mimetype": "text/x-python",
   "name": "python",
   "nbconvert_exporter": "python",
   "pygments_lexer": "ipython3",
   "version": "3.7.1"
  }
 },
 "nbformat": 4,
 "nbformat_minor": 2
}
