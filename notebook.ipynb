{
 "cells": [
  {
   "cell_type": "code",
   "execution_count": 2,
   "metadata": {},
   "outputs": [
    {
     "ename": "ModuleNotFoundError",
     "evalue": "No module named 'numpy.testing.nosetester'",
     "output_type": "error",
     "traceback": [
      "\u001b[0;31m---------------------------------------------------------------------------\u001b[0m",
      "\u001b[0;31mModuleNotFoundError\u001b[0m                       Traceback (most recent call last)",
      "\u001b[0;32m<ipython-input-2-4937a3907d8e>\u001b[0m in \u001b[0;36m<module>\u001b[0;34m()\u001b[0m\n\u001b[1;32m      4\u001b[0m \u001b[0;32mimport\u001b[0m \u001b[0mnumpy\u001b[0m \u001b[0;32mas\u001b[0m \u001b[0mnapi\u001b[0m \u001b[0;31m# linear algebra\u001b[0m\u001b[0;34m\u001b[0m\u001b[0m\n\u001b[1;32m      5\u001b[0m \u001b[0;32mimport\u001b[0m \u001b[0mpandas\u001b[0m \u001b[0;32mas\u001b[0m \u001b[0mpd\u001b[0m \u001b[0;31m# data processing, CSV file I/O (e.g. pd.read_csv)\u001b[0m\u001b[0;34m\u001b[0m\u001b[0m\n\u001b[0;32m----> 6\u001b[0;31m \u001b[0;32mfrom\u001b[0m \u001b[0msklearn\u001b[0m\u001b[0;34m.\u001b[0m\u001b[0mmodel_selection\u001b[0m \u001b[0;32mimport\u001b[0m \u001b[0mtrain_test_split\u001b[0m\u001b[0;34m,\u001b[0m \u001b[0mcross_validate\u001b[0m\u001b[0;34m\u001b[0m\u001b[0m\n\u001b[0m\u001b[1;32m      7\u001b[0m \u001b[0;32mfrom\u001b[0m \u001b[0msklearn\u001b[0m\u001b[0;34m.\u001b[0m\u001b[0mfeature_extraction\u001b[0m\u001b[0;34m.\u001b[0m\u001b[0mtext\u001b[0m \u001b[0;32mimport\u001b[0m \u001b[0mCountVectorizer\u001b[0m\u001b[0;34m\u001b[0m\u001b[0m\n\u001b[1;32m      8\u001b[0m \u001b[0;32mfrom\u001b[0m \u001b[0msklearn\u001b[0m\u001b[0;34m.\u001b[0m\u001b[0msvm\u001b[0m \u001b[0;32mimport\u001b[0m \u001b[0mSVC\u001b[0m\u001b[0;34m\u001b[0m\u001b[0m\n",
      "\u001b[0;32m/Users/Administrator/anaconda/lib/python3.6/site-packages/sklearn/__init__.py\u001b[0m in \u001b[0;36m<module>\u001b[0;34m()\u001b[0m\n\u001b[1;32m     55\u001b[0m \u001b[0;32melse\u001b[0m\u001b[0;34m:\u001b[0m\u001b[0;34m\u001b[0m\u001b[0m\n\u001b[1;32m     56\u001b[0m     \u001b[0;32mfrom\u001b[0m \u001b[0;34m.\u001b[0m \u001b[0;32mimport\u001b[0m \u001b[0m__check_build\u001b[0m\u001b[0;34m\u001b[0m\u001b[0m\n\u001b[0;32m---> 57\u001b[0;31m     \u001b[0;32mfrom\u001b[0m \u001b[0;34m.\u001b[0m\u001b[0mbase\u001b[0m \u001b[0;32mimport\u001b[0m \u001b[0mclone\u001b[0m\u001b[0;34m\u001b[0m\u001b[0m\n\u001b[0m\u001b[1;32m     58\u001b[0m     \u001b[0m__check_build\u001b[0m  \u001b[0;31m# avoid flakes unused variable error\u001b[0m\u001b[0;34m\u001b[0m\u001b[0m\n\u001b[1;32m     59\u001b[0m \u001b[0;34m\u001b[0m\u001b[0m\n",
      "\u001b[0;32m/Users/Administrator/anaconda/lib/python3.6/site-packages/sklearn/base.py\u001b[0m in \u001b[0;36m<module>\u001b[0;34m()\u001b[0m\n\u001b[1;32m     10\u001b[0m \u001b[0;32mfrom\u001b[0m \u001b[0mscipy\u001b[0m \u001b[0;32mimport\u001b[0m \u001b[0msparse\u001b[0m\u001b[0;34m\u001b[0m\u001b[0m\n\u001b[1;32m     11\u001b[0m \u001b[0;32mfrom\u001b[0m \u001b[0;34m.\u001b[0m\u001b[0mexternals\u001b[0m \u001b[0;32mimport\u001b[0m \u001b[0msix\u001b[0m\u001b[0;34m\u001b[0m\u001b[0m\n\u001b[0;32m---> 12\u001b[0;31m \u001b[0;32mfrom\u001b[0m \u001b[0;34m.\u001b[0m\u001b[0mutils\u001b[0m\u001b[0;34m.\u001b[0m\u001b[0mfixes\u001b[0m \u001b[0;32mimport\u001b[0m \u001b[0msignature\u001b[0m\u001b[0;34m\u001b[0m\u001b[0m\n\u001b[0m\u001b[1;32m     13\u001b[0m \u001b[0;32mfrom\u001b[0m \u001b[0;34m.\u001b[0m\u001b[0mutils\u001b[0m\u001b[0;34m.\u001b[0m\u001b[0mdeprecation\u001b[0m \u001b[0;32mimport\u001b[0m \u001b[0mdeprecated\u001b[0m\u001b[0;34m\u001b[0m\u001b[0m\n\u001b[1;32m     14\u001b[0m \u001b[0;32mfrom\u001b[0m \u001b[0;34m.\u001b[0m\u001b[0mexceptions\u001b[0m \u001b[0;32mimport\u001b[0m \u001b[0mChangedBehaviorWarning\u001b[0m \u001b[0;32mas\u001b[0m \u001b[0m_ChangedBehaviorWarning\u001b[0m\u001b[0;34m\u001b[0m\u001b[0m\n",
      "\u001b[0;32m/Users/Administrator/anaconda/lib/python3.6/site-packages/sklearn/utils/__init__.py\u001b[0m in \u001b[0;36m<module>\u001b[0;34m()\u001b[0m\n\u001b[1;32m      9\u001b[0m \u001b[0;34m\u001b[0m\u001b[0m\n\u001b[1;32m     10\u001b[0m \u001b[0;32mfrom\u001b[0m \u001b[0;34m.\u001b[0m\u001b[0mmurmurhash\u001b[0m \u001b[0;32mimport\u001b[0m \u001b[0mmurmurhash3_32\u001b[0m\u001b[0;34m\u001b[0m\u001b[0m\n\u001b[0;32m---> 11\u001b[0;31m from .validation import (as_float_array,\n\u001b[0m\u001b[1;32m     12\u001b[0m                          \u001b[0massert_all_finite\u001b[0m\u001b[0;34m,\u001b[0m\u001b[0;34m\u001b[0m\u001b[0m\n\u001b[1;32m     13\u001b[0m                          \u001b[0mcheck_random_state\u001b[0m\u001b[0;34m,\u001b[0m \u001b[0mcolumn_or_1d\u001b[0m\u001b[0;34m,\u001b[0m \u001b[0mcheck_array\u001b[0m\u001b[0;34m,\u001b[0m\u001b[0;34m\u001b[0m\u001b[0m\n",
      "\u001b[0;32m/Users/Administrator/anaconda/lib/python3.6/site-packages/sklearn/utils/validation.py\u001b[0m in \u001b[0;36m<module>\u001b[0;34m()\u001b[0m\n\u001b[1;32m     16\u001b[0m \u001b[0;34m\u001b[0m\u001b[0m\n\u001b[1;32m     17\u001b[0m \u001b[0;32mfrom\u001b[0m \u001b[0;34m.\u001b[0m\u001b[0;34m.\u001b[0m\u001b[0mexternals\u001b[0m \u001b[0;32mimport\u001b[0m \u001b[0msix\u001b[0m\u001b[0;34m\u001b[0m\u001b[0m\n\u001b[0;32m---> 18\u001b[0;31m \u001b[0;32mfrom\u001b[0m \u001b[0;34m.\u001b[0m\u001b[0;34m.\u001b[0m\u001b[0mutils\u001b[0m\u001b[0;34m.\u001b[0m\u001b[0mfixes\u001b[0m \u001b[0;32mimport\u001b[0m \u001b[0msignature\u001b[0m\u001b[0;34m\u001b[0m\u001b[0m\n\u001b[0m\u001b[1;32m     19\u001b[0m \u001b[0;32mfrom\u001b[0m \u001b[0;34m.\u001b[0m\u001b[0mdeprecation\u001b[0m \u001b[0;32mimport\u001b[0m \u001b[0mdeprecated\u001b[0m\u001b[0;34m\u001b[0m\u001b[0m\n\u001b[1;32m     20\u001b[0m \u001b[0;32mfrom\u001b[0m \u001b[0;34m.\u001b[0m\u001b[0;34m.\u001b[0m\u001b[0mexceptions\u001b[0m \u001b[0;32mimport\u001b[0m \u001b[0mDataConversionWarning\u001b[0m \u001b[0;32mas\u001b[0m \u001b[0m_DataConversionWarning\u001b[0m\u001b[0;34m\u001b[0m\u001b[0m\n",
      "\u001b[0;32m/Users/Administrator/anaconda/lib/python3.6/site-packages/sklearn/utils/fixes.py\u001b[0m in \u001b[0;36m<module>\u001b[0;34m()\u001b[0m\n\u001b[1;32m    401\u001b[0m         \u001b[0;32mreturn\u001b[0m \u001b[0;36m.5\u001b[0m \u001b[0;34m*\u001b[0m \u001b[0;34m(\u001b[0m\u001b[0mcount\u001b[0m\u001b[0;34m[\u001b[0m\u001b[0mdense\u001b[0m\u001b[0;34m]\u001b[0m \u001b[0;34m+\u001b[0m \u001b[0mcount\u001b[0m\u001b[0;34m[\u001b[0m\u001b[0mdense\u001b[0m \u001b[0;34m-\u001b[0m \u001b[0;36m1\u001b[0m\u001b[0;34m]\u001b[0m \u001b[0;34m+\u001b[0m \u001b[0;36m1\u001b[0m\u001b[0;34m)\u001b[0m\u001b[0;34m\u001b[0m\u001b[0m\n\u001b[1;32m    402\u001b[0m \u001b[0;32melse\u001b[0m\u001b[0;34m:\u001b[0m\u001b[0;34m\u001b[0m\u001b[0m\n\u001b[0;32m--> 403\u001b[0;31m     \u001b[0;32mfrom\u001b[0m \u001b[0mscipy\u001b[0m\u001b[0;34m.\u001b[0m\u001b[0mstats\u001b[0m \u001b[0;32mimport\u001b[0m \u001b[0mrankdata\u001b[0m\u001b[0;34m\u001b[0m\u001b[0m\n\u001b[0m\u001b[1;32m    404\u001b[0m \u001b[0;34m\u001b[0m\u001b[0m\n\u001b[1;32m    405\u001b[0m \u001b[0;34m\u001b[0m\u001b[0m\n",
      "\u001b[0;32m/Users/Administrator/anaconda/lib/python3.6/site-packages/scipy/stats/__init__.py\u001b[0m in \u001b[0;36m<module>\u001b[0;34m()\u001b[0m\n\u001b[1;32m    346\u001b[0m \u001b[0;32mfrom\u001b[0m \u001b[0m__future__\u001b[0m \u001b[0;32mimport\u001b[0m \u001b[0mdivision\u001b[0m\u001b[0;34m,\u001b[0m \u001b[0mprint_function\u001b[0m\u001b[0;34m,\u001b[0m \u001b[0mabsolute_import\u001b[0m\u001b[0;34m\u001b[0m\u001b[0m\n\u001b[1;32m    347\u001b[0m \u001b[0;34m\u001b[0m\u001b[0m\n\u001b[0;32m--> 348\u001b[0;31m \u001b[0;32mfrom\u001b[0m \u001b[0;34m.\u001b[0m\u001b[0mstats\u001b[0m \u001b[0;32mimport\u001b[0m \u001b[0;34m*\u001b[0m\u001b[0;34m\u001b[0m\u001b[0m\n\u001b[0m\u001b[1;32m    349\u001b[0m \u001b[0;32mfrom\u001b[0m \u001b[0;34m.\u001b[0m\u001b[0mdistributions\u001b[0m \u001b[0;32mimport\u001b[0m \u001b[0;34m*\u001b[0m\u001b[0;34m\u001b[0m\u001b[0m\n\u001b[1;32m    350\u001b[0m \u001b[0;32mfrom\u001b[0m \u001b[0;34m.\u001b[0m\u001b[0mmorestats\u001b[0m \u001b[0;32mimport\u001b[0m \u001b[0;34m*\u001b[0m\u001b[0;34m\u001b[0m\u001b[0m\n",
      "\u001b[0;32m/Users/Administrator/anaconda/lib/python3.6/site-packages/scipy/stats/stats.py\u001b[0m in \u001b[0;36m<module>\u001b[0;34m()\u001b[0m\n\u001b[1;32m    175\u001b[0m \u001b[0;32mimport\u001b[0m \u001b[0mscipy\u001b[0m\u001b[0;34m.\u001b[0m\u001b[0mspecial\u001b[0m \u001b[0;32mas\u001b[0m \u001b[0mspecial\u001b[0m\u001b[0;34m\u001b[0m\u001b[0m\n\u001b[1;32m    176\u001b[0m \u001b[0;32mimport\u001b[0m \u001b[0mscipy\u001b[0m\u001b[0;34m.\u001b[0m\u001b[0mlinalg\u001b[0m \u001b[0;32mas\u001b[0m \u001b[0mlinalg\u001b[0m\u001b[0;34m\u001b[0m\u001b[0m\n\u001b[0;32m--> 177\u001b[0;31m \u001b[0;32mfrom\u001b[0m \u001b[0;34m.\u001b[0m \u001b[0;32mimport\u001b[0m \u001b[0mdistributions\u001b[0m\u001b[0;34m\u001b[0m\u001b[0m\n\u001b[0m\u001b[1;32m    178\u001b[0m \u001b[0;32mfrom\u001b[0m \u001b[0;34m.\u001b[0m \u001b[0;32mimport\u001b[0m \u001b[0mmstats_basic\u001b[0m\u001b[0;34m\u001b[0m\u001b[0m\n\u001b[1;32m    179\u001b[0m \u001b[0;32mfrom\u001b[0m \u001b[0;34m.\u001b[0m\u001b[0m_distn_infrastructure\u001b[0m \u001b[0;32mimport\u001b[0m \u001b[0m_lazywhere\u001b[0m\u001b[0;34m\u001b[0m\u001b[0m\n",
      "\u001b[0;32m/Users/Administrator/anaconda/lib/python3.6/site-packages/scipy/stats/distributions.py\u001b[0m in \u001b[0;36m<module>\u001b[0;34m()\u001b[0m\n\u001b[1;32m     11\u001b[0m                                     rv_frozen)\n\u001b[1;32m     12\u001b[0m \u001b[0;34m\u001b[0m\u001b[0m\n\u001b[0;32m---> 13\u001b[0;31m \u001b[0;32mfrom\u001b[0m \u001b[0;34m.\u001b[0m \u001b[0;32mimport\u001b[0m \u001b[0m_continuous_distns\u001b[0m\u001b[0;34m\u001b[0m\u001b[0m\n\u001b[0m\u001b[1;32m     14\u001b[0m \u001b[0;32mfrom\u001b[0m \u001b[0;34m.\u001b[0m \u001b[0;32mimport\u001b[0m \u001b[0m_discrete_distns\u001b[0m\u001b[0;34m\u001b[0m\u001b[0m\n\u001b[1;32m     15\u001b[0m \u001b[0;34m\u001b[0m\u001b[0m\n",
      "\u001b[0;32m/Users/Administrator/anaconda/lib/python3.6/site-packages/scipy/stats/_continuous_distns.py\u001b[0m in \u001b[0;36m<module>\u001b[0;34m()\u001b[0m\n\u001b[1;32m     13\u001b[0m \u001b[0;32mfrom\u001b[0m \u001b[0mscipy\u001b[0m \u001b[0;32mimport\u001b[0m \u001b[0mintegrate\u001b[0m\u001b[0;34m\u001b[0m\u001b[0m\n\u001b[1;32m     14\u001b[0m \u001b[0;32mimport\u001b[0m \u001b[0mscipy\u001b[0m\u001b[0;34m.\u001b[0m\u001b[0mspecial\u001b[0m \u001b[0;32mas\u001b[0m \u001b[0msc\u001b[0m\u001b[0;34m\u001b[0m\u001b[0m\n\u001b[0;32m---> 15\u001b[0;31m \u001b[0;32mfrom\u001b[0m \u001b[0mscipy\u001b[0m\u001b[0;34m.\u001b[0m\u001b[0m_lib\u001b[0m\u001b[0;34m.\u001b[0m\u001b[0m_numpy_compat\u001b[0m \u001b[0;32mimport\u001b[0m \u001b[0mbroadcast_to\u001b[0m\u001b[0;34m\u001b[0m\u001b[0m\n\u001b[0m\u001b[1;32m     16\u001b[0m \u001b[0;34m\u001b[0m\u001b[0m\n\u001b[1;32m     17\u001b[0m \u001b[0;32mfrom\u001b[0m \u001b[0;34m.\u001b[0m \u001b[0;32mimport\u001b[0m \u001b[0m_stats\u001b[0m\u001b[0;34m\u001b[0m\u001b[0m\n",
      "\u001b[0;32m/Users/Administrator/anaconda/lib/python3.6/site-packages/scipy/_lib/_numpy_compat.py\u001b[0m in \u001b[0;36m<module>\u001b[0;34m()\u001b[0m\n\u001b[1;32m      8\u001b[0m \u001b[0;34m\u001b[0m\u001b[0m\n\u001b[1;32m      9\u001b[0m \u001b[0;32mimport\u001b[0m \u001b[0mnumpy\u001b[0m \u001b[0;32mas\u001b[0m \u001b[0mnp\u001b[0m\u001b[0;34m\u001b[0m\u001b[0m\n\u001b[0;32m---> 10\u001b[0;31m \u001b[0;32mfrom\u001b[0m \u001b[0mnumpy\u001b[0m\u001b[0;34m.\u001b[0m\u001b[0mtesting\u001b[0m\u001b[0;34m.\u001b[0m\u001b[0mnosetester\u001b[0m \u001b[0;32mimport\u001b[0m \u001b[0mimport_nose\u001b[0m\u001b[0;34m\u001b[0m\u001b[0m\n\u001b[0m\u001b[1;32m     11\u001b[0m \u001b[0;34m\u001b[0m\u001b[0m\n\u001b[1;32m     12\u001b[0m \u001b[0;32mfrom\u001b[0m \u001b[0mscipy\u001b[0m\u001b[0;34m.\u001b[0m\u001b[0m_lib\u001b[0m\u001b[0;34m.\u001b[0m\u001b[0m_version\u001b[0m \u001b[0;32mimport\u001b[0m \u001b[0mNumpyVersion\u001b[0m\u001b[0;34m\u001b[0m\u001b[0m\n",
      "\u001b[0;31mModuleNotFoundError\u001b[0m: No module named 'numpy.testing.nosetester'"
     ]
    }
   ],
   "source": [
    "# This Python 3 environment comes with many helpful analytics libraries installed\n",
    "# It is defined by the kaggle/python docker image: https://github.com/kaggle/docker-python\n",
    "# For example, here's several helpful packages to load in\n",
    "import numpy as napi # linear algebra\n",
    "import pandas as pd # data processing, CSV file I/O (e.g. pd.read_csv)\n",
    "from sklearn.model_selection import train_test_split, cross_validate\n",
    "from sklearn.feature_extraction.text import CountVectorizer\n",
    "from sklearn.svm import SVC\n",
    "from sklearn.decomposition import PCA\n",
    "from sklearn.feature_extraction.text import TfidfVectorizer\n",
    "import matplotlib.pyplot as plt"
   ]
  },
  {
   "cell_type": "code",
   "execution_count": 59,
   "metadata": {
    "collapsed": true
   },
   "outputs": [],
   "source": [
    "from nltk.stem import PorterStemmer, LancasterStemmer\n",
    "from nltk.tokenize import sent_tokenize, word_tokenize\n",
    "def stemSentence(sentence):\n",
    "    token_words=word_tokenize(sentence)\n",
    "#     token_words\n",
    "    stem_sentence=[]\n",
    "    for word in token_words:\n",
    "        stem_sentence.append(porter.stem(word)) # can try other stemmers\n",
    "        stem_sentence.append(\" \")\n",
    "    return \"\".join(stem_sentence)\n",
    "\n",
    "def stemSentenceList(sentenceList):\n",
    "    return_list = []\n",
    "    for sentence in sentenceList:\n",
    "        return_list.append(stemSentence(sentence))\n",
    "    return return_list"
   ]
  },
  {
   "cell_type": "code",
   "execution_count": 2,
   "metadata": {},
   "outputs": [
    {
     "name": "stdout",
     "output_type": "stream",
     "text": [
      "loading data\n"
     ]
    },
    {
     "data": {
      "text/html": [
       "<div>\n",
       "<style scoped>\n",
       "    .dataframe tbody tr th:only-of-type {\n",
       "        vertical-align: middle;\n",
       "    }\n",
       "\n",
       "    .dataframe tbody tr th {\n",
       "        vertical-align: top;\n",
       "    }\n",
       "\n",
       "    .dataframe thead th {\n",
       "        text-align: right;\n",
       "    }\n",
       "</style>\n",
       "<table border=\"1\" class=\"dataframe\">\n",
       "  <thead>\n",
       "    <tr style=\"text-align: right;\">\n",
       "      <th></th>\n",
       "      <th>keyword</th>\n",
       "      <th>location</th>\n",
       "      <th>text</th>\n",
       "    </tr>\n",
       "  </thead>\n",
       "  <tbody>\n",
       "    <tr>\n",
       "      <th>0</th>\n",
       "      <td>NaN</td>\n",
       "      <td>NaN</td>\n",
       "      <td>Our Deeds are the Reason of this #earthquake M...</td>\n",
       "    </tr>\n",
       "    <tr>\n",
       "      <th>1</th>\n",
       "      <td>NaN</td>\n",
       "      <td>NaN</td>\n",
       "      <td>Forest fire near La Ronge Sask. Canada</td>\n",
       "    </tr>\n",
       "    <tr>\n",
       "      <th>2</th>\n",
       "      <td>NaN</td>\n",
       "      <td>NaN</td>\n",
       "      <td>All residents asked to 'shelter in place' are ...</td>\n",
       "    </tr>\n",
       "    <tr>\n",
       "      <th>3</th>\n",
       "      <td>NaN</td>\n",
       "      <td>NaN</td>\n",
       "      <td>13,000 people receive #wildfires evacuation or...</td>\n",
       "    </tr>\n",
       "    <tr>\n",
       "      <th>4</th>\n",
       "      <td>NaN</td>\n",
       "      <td>NaN</td>\n",
       "      <td>Just got sent this photo from Ruby #Alaska as ...</td>\n",
       "    </tr>\n",
       "  </tbody>\n",
       "</table>\n",
       "</div>"
      ],
      "text/plain": [
       "  keyword location                                               text\n",
       "0     NaN      NaN  Our Deeds are the Reason of this #earthquake M...\n",
       "1     NaN      NaN             Forest fire near La Ronge Sask. Canada\n",
       "2     NaN      NaN  All residents asked to 'shelter in place' are ...\n",
       "3     NaN      NaN  13,000 people receive #wildfires evacuation or...\n",
       "4     NaN      NaN  Just got sent this photo from Ruby #Alaska as ..."
      ]
     },
     "execution_count": 2,
     "metadata": {},
     "output_type": "execute_result"
    }
   ],
   "source": [
    "# Input data files are available in the \"../input/\" directory.\n",
    "print(\"loading data\")\n",
    "sample_submission = pd.read_csv(\"sample_submission.csv\")\n",
    "test = pd.read_csv(\"test.csv\")\n",
    "train = pd.read_csv(\"train.csv\")\n",
    "\n",
    "X = train.iloc[:, 1:-1]\n",
    "y = train[\"target\"]\n",
    "X_train, X_test, y_train, y_test = train_test_split(X, y, test_size=0.1, random_state=42)\n",
    "X.head()"
   ]
  },
  {
   "cell_type": "code",
   "execution_count": 3,
   "metadata": {},
   "outputs": [
    {
     "name": "stdout",
     "output_type": "stream",
     "text": [
      "length of keyword feature vector 221\n"
     ]
    }
   ],
   "source": [
    "# keyword dictionary\n",
    "# Could instead use a CountVectorizer\n",
    "keyword_col = X_train[\"keyword\"]\n",
    "keyword_not_null = keyword_col[keyword_col.notnull()]\n",
    "keyword_arr = keyword_not_null.values\n",
    "# keyword_arr = keyword_arr[keyword_arr.notnull()]\n",
    "# print(keyword_arr.size)\n",
    "keyword_arr = napi.unique(keyword_arr)\n",
    "# print(keyword_arr.size)\n",
    "KEYWORD_ARRAY_SIZE = keyword_arr.size\n",
    "\n",
    "# TODO: Convert keywords to feature vectors\n",
    "keyword_features = pd.get_dummies(X_train.iloc[:,0]).values\n",
    "# print(\"keyword_features shape: \", keyword_features.shape)\n",
    "print(\"length of keyword feature vector\", KEYWORD_ARRAY_SIZE)  # 221\n",
    "\n",
    "'''\n",
    "keyword_to_vector\n",
    "Description: one-hot encode a keyword\n",
    "Inputs: key -- keyword to convert (string)\n",
    "         keyword_arr -- \"dictionary\" to be used (sorted array of strings)\n",
    "                        Always use keyword_arr in this project\n",
    "Returns: a feature vector (arrat of ints, 0 or 1)\n",
    "'''\n",
    "def keyword_to_vector(key, keyword_arr):\n",
    "    if pd.isna(key):\n",
    "        return napi.zeros(len(keyword_arr))\n",
    "    feature_vect_bool = (keyword_arr == key)\n",
    "    feature_vect = 1 * feature_vect_bool\n",
    "    return feature_vect\n",
    "\n",
    "\n",
    "# CountVectorizer Approach:\n",
    "# keywords = X_train['text'].tolist()\n",
    "# keyword_cv = CountVectorizer()\n",
    "# keyword_vect = keyword_cv.fit_transform(keywords).toarray(float)    \n",
    "# print(keyword_to_vector(\"ablaze\", keyword_arr))\n",
    "\n",
    "# Skip this part now (ignore location)\n",
    "# # location dictionary\n",
    "# location_arr = X_train[\"location\"][X_train[\"location\"].notnull()].values\n",
    "# # location_arr = location_arr[location_arr.notnull()]\n",
    "# print(location_arr.size)\n",
    "# location_arr = napi.unique(location_arr)\n",
    "# print(location_arr.size)\n",
    "# LOCATION_ARRAY_SIZE = location_arr.size\n",
    "# # print(location_arr)\n"
   ]
  },
  {
   "cell_type": "code",
   "execution_count": 51,
   "metadata": {},
   "outputs": [
    {
     "name": "stdout",
     "output_type": "stream",
     "text": [
      "{nan: [42, 61], 'ablaz': [13, 36], 'accid': [24, 35], 'aftershock': [0, 34], 'airplane%20accid': [30, 35], 'ambul': [20, 38], 'annihil': [21, 63], 'apocalyps': [9, 32], 'armageddon': [5, 42], 'armi': [5, 34], 'arson': [22, 32], 'arsonist': [8, 34], 'attack': [46, 71], 'avalanch': [4, 30], 'battl': [5, 26], 'bioterror': [43, 67], 'blaze': [6, 72], 'bleed': [5, 35], 'blew%20up': [2, 33], 'blight': [2, 32], 'blizzard': [4, 37], 'blood': [5, 35], 'bloodi': [3, 35], 'blown%20up': [5, 33], 'body%20bag': [7, 107], 'bomb': [61, 101], 'bridge%20collaps': [29, 35], 'buildings%20burn': [24, 35], 'buildings%20on%20fir': [28, 33], 'burn': [17, 67], 'burning%20build': [21, 37], 'bush%20fir': [18, 25], 'casualti': [43, 69], 'catastroph': [27, 66], 'chemical%20emerg': [15, 33], 'cliff%20fal': [8, 36], 'collaps': [28, 69], 'collid': [26, 74], 'collis': [29, 39], 'crash': [33, 67], 'crush': [8, 68], 'curfew': [5, 37], 'cyclon': [19, 32], 'damag': [19, 41], 'danger': [8, 36], 'dead': [7, 30], 'death': [35, 74], 'debri': [37, 37], 'delug': [13, 69], 'demolish': [12, 62], 'demolit': [9, 35], 'derail': [82, 112], 'desol': [14, 65], 'destroy': [17, 69], 'destruct': [6, 34], 'deton': [19, 68], 'devast': [45, 67], 'disast': [15, 35], 'displac': [26, 36], 'drought': [28, 35], 'drown': [27, 104], 'dust%20storm': [24, 36], 'earthquak': [30, 39], 'electrocut': [14, 66], 'emerg': [14, 37], 'emergency%20plan': [21, 35], 'emergency%20servic': [11, 33], 'engulf': [19, 36], 'epicentr': [1, 12], 'evacu': [85, 112], 'explod': [12, 71], 'explos': [20, 39], 'eyewit': [12, 32], 'famin': [26, 39], 'fatal': [62, 120], 'fear': [5, 40], 'fire': [11, 38], 'fire%20truck': [22, 33], 'first%20respond': [12, 29], 'flame': [13, 39], 'flatten': [5, 34], 'flood': [66, 109], 'forest%20fir': [42, 51], 'hail': [18, 35], 'hailstorm': [24, 32], 'harm': [4, 41], 'hazard': [29, 69], 'heat%20wav': [25, 34], 'hellfir': [7, 39], 'hijack': [50, 100], 'hostag': [42, 68], 'hurrican': [20, 38], 'injur': [24, 35], 'injuri': [20, 71], 'inund': [8, 45], 'landslid': [14, 33], 'lava': [5, 34], 'lightn': [17, 33], 'loud%20bang': [7, 34], 'mass%20murd': [28, 33], 'mass%20murder': [19, 32], 'massacr': [25, 36], 'mayhem': [3, 30], 'meltdown': [5, 33], 'militari': [8, 34], 'mudslid': [12, 37], 'natural%20disast': [18, 34], 'nuclear%20disast': [31, 34], 'nuclear%20reactor': [14, 36], 'obliter': [12, 91], 'oil%20spil': [37, 38], 'outbreak': [39, 40], 'pandemonium': [8, 37], 'panic': [3, 37], 'panick': [2, 33], 'polic': [21, 37], 'quarantin': [19, 71], 'radiation%20emerg': [5, 9], 'rainstorm': [18, 34], 'raze': [31, 35], 'refuge': [22, 36], 'rescu': [22, 57], 'rescuer': [32, 35], 'riot': [29, 69], 'rubbl': [10, 28], 'ruin': [1, 37], 'sandstorm': [28, 37], 'scream': [11, 105], 'seismic': [13, 29], 'sinkhol': [27, 39], 'sink': [8, 41], 'siren': [12, 69], 'smoke': [3, 34], 'snowstorm': [13, 29], 'storm': [18, 35], 'stretcher': [3, 33], 'structural%20failur': [23, 35], 'suicide%20bomb': [94, 99], 'sunk': [9, 39], 'surviv': [15, 65], 'survivor': [21, 30], 'terror': [24, 34], 'terrorist': [23, 31], 'threat': [2, 11], 'thunder': [12, 38], 'thunderstorm': [26, 33], 'tornado': [16, 35], 'tragedi': [22, 36], 'trap': [9, 32], 'trauma': [11, 31], 'traumatis': [2, 35], 'troubl': [5, 33], 'tsunami': [11, 34], 'twister': [5, 40], 'typhoon': [37, 38], 'upheav': [6, 38], 'violent%20storm': [26, 33], 'volcano': [18, 27], 'war%20zon': [7, 24], 'weapon': [31, 78], 'whirlwind': [14, 39], 'wild%20fir': [27, 31], 'wildfir': [29, 33], 'windstorm': [16, 40], 'wound': [36, 70], 'wreck': [10, 76], 'wreckag': [39, 39]}\n",
      "167\n",
      "(6851, 1)\n"
     ]
    }
   ],
   "source": [
    "# NOTE: Try to decrease number of features associated with keywords\n",
    "keyword_dict = {}\n",
    "# Right now we are using the entire training set (including train, cv, test) to do this;\n",
    "# This is NOT good practice, but we may leave it because we are lazy.\n",
    "keyword_full_arr = keyword_col = train[[\"keyword\",\"target\"]].values\n",
    "stemmer = PorterStemmer() # could also try other stemmers\n",
    "# print(keyword_full_arr)\n",
    "for pair in keyword_full_arr:\n",
    "    if pd.isna(pair[0]):\n",
    "        stemmed_key = napi.nan\n",
    "    else:\n",
    "        stemmed_key = stemmer.stem(pair[0])\n",
    "    \n",
    "    if stemmed_key not in keyword_dict:\n",
    "        keyword_dict[stemmed_key] = [0,0]\n",
    "    keyword_dict[stemmed_key][0] += pair[1]\n",
    "    keyword_dict[stemmed_key][1] += 1\n",
    "    \n",
    "print(keyword_dict)\n",
    "print(len(keyword_dict))\n",
    "\n",
    "# Next, transform keywords to numerical values:\n",
    "numerical_keyword_features = []\n",
    "for keyword in X_train[\"keyword\"].values:\n",
    "    if pd.isna(keyword):\n",
    "        key = napi.nan\n",
    "    else:\n",
    "        key = stemmer.stem(keyword)\n",
    "    \n",
    "    numerical_keyword_features.append(keyword_dict[key][0]/keyword_dict[key][1])\n",
    "\n",
    "numerical_keyword_features = (napi.array(numerical_keyword_features)).reshape(-1,1)\n",
    "print(numerical_keyword_features.shape)"
   ]
  },
  {
   "cell_type": "code",
   "execution_count": 60,
   "metadata": {},
   "outputs": [
    {
     "name": "stdout",
     "output_type": "stream",
     "text": [
      "['here we have a test for the stemmer , hope the first one perform well . ', 'here we have a test for the stemmer , hope the first one perform well . ']\n"
     ]
    }
   ],
   "source": [
    "# stemmer\n",
    "sentence = \"here we have a test for the stemmers, hope the first one performs well.\"\n",
    "print(stemSentenceList([sentence,sentence]))"
   ]
  },
  {
   "cell_type": "code",
   "execution_count": 1,
   "metadata": {},
   "outputs": [
    {
     "ename": "NameError",
     "evalue": "name 'stemSentenceList' is not defined",
     "output_type": "error",
     "traceback": [
      "\u001b[0;31m---------------------------------------------------------------------------\u001b[0m",
      "\u001b[0;31mNameError\u001b[0m                                 Traceback (most recent call last)",
      "\u001b[0;32m<ipython-input-1-102e7e6b79aa>\u001b[0m in \u001b[0;36m<module>\u001b[0;34m()\u001b[0m\n\u001b[1;32m      1\u001b[0m \u001b[0;34m\u001b[0m\u001b[0m\n\u001b[1;32m      2\u001b[0m \u001b[0;31m# TODO: Build a dictionary on text\u001b[0m\u001b[0;34m\u001b[0m\u001b[0;34m\u001b[0m\u001b[0m\n\u001b[0;32m----> 3\u001b[0;31m \u001b[0msentences\u001b[0m \u001b[0;34m=\u001b[0m \u001b[0mstemSentenceList\u001b[0m\u001b[0;34m(\u001b[0m\u001b[0mX_train\u001b[0m\u001b[0;34m[\u001b[0m\u001b[0;34m'text'\u001b[0m\u001b[0;34m]\u001b[0m\u001b[0;34m.\u001b[0m\u001b[0mtolist\u001b[0m\u001b[0;34m(\u001b[0m\u001b[0;34m)\u001b[0m\u001b[0;34m)\u001b[0m\u001b[0;34m\u001b[0m\u001b[0m\n\u001b[0m\u001b[1;32m      4\u001b[0m \u001b[0mcv\u001b[0m \u001b[0;34m=\u001b[0m \u001b[0mCountVectorizer\u001b[0m\u001b[0;34m(\u001b[0m\u001b[0mmin_df\u001b[0m\u001b[0;34m=\u001b[0m\u001b[0;36m0.0008\u001b[0m\u001b[0;34m)\u001b[0m\u001b[0;34m\u001b[0m\u001b[0m\n\u001b[1;32m      5\u001b[0m \u001b[0mcv\u001b[0m \u001b[0;34m=\u001b[0m \u001b[0mTfidfVectorizer\u001b[0m\u001b[0;34m(\u001b[0m\u001b[0mmin_df\u001b[0m \u001b[0;34m=\u001b[0m \u001b[0;36m0.0008\u001b[0m\u001b[0;34m)\u001b[0m\u001b[0;34m\u001b[0m\u001b[0m\n",
      "\u001b[0;31mNameError\u001b[0m: name 'stemSentenceList' is not defined"
     ]
    }
   ],
   "source": [
    "\n",
    "# TODO: Build a dictionary on text\n",
    "sentences = stemSentenceList(X_train['text'].tolist())\n",
    "cv = CountVectorizer(min_df=0.0008)\n",
    "cv = TfidfVectorizer(min_df = 0.0008)\n",
    "text_features = cv.fit_transform(sentences).toarray(float)\n",
    "# print(len(sentences))\n",
    "# print(cv.vocabulary_)\n",
    "# print(text_features[100])\n",
    "print(\"length of text feature vector: \", len(cv.get_feature_names()))\n"
   ]
  },
  {
   "cell_type": "code",
   "execution_count": 63,
   "metadata": {},
   "outputs": [
    {
     "name": "stdout",
     "output_type": "stream",
     "text": [
      "(6851, 221) (6851, 2066)\n",
      "(6851, 2067)\n"
     ]
    }
   ],
   "source": [
    "\n",
    "# merge all the features:\n",
    "print(keyword_features.shape, text_features.shape)\n",
    "All_features = napi.concatenate((numerical_keyword_features, text_features), axis=1)\n",
    "# All_features = text_features\n",
    "print(All_features.shape)"
   ]
  },
  {
   "cell_type": "code",
   "execution_count": 64,
   "metadata": {},
   "outputs": [
    {
     "name": "stdout",
     "output_type": "stream",
     "text": [
      "Doing PCA...\n",
      "n components:  1100\n"
     ]
    }
   ],
   "source": [
    "# Apply PCA if necessary\n",
    "print(\"Doing PCA...\")\n",
    "pca = PCA(0.95)\n",
    "pca.fit(All_features)\n",
    "PCA(copy=True, iterated_power='auto', random_state=42, svd_solver='auto', tol=0.0)\n",
    "\n",
    "train_X_pca = pca.transform(All_features)\n",
    "print(\"n components: \", pca.n_components_)"
   ]
  },
  {
   "cell_type": "code",
   "execution_count": 65,
   "metadata": {},
   "outputs": [
    {
     "name": "stdout",
     "output_type": "stream",
     "text": [
      "{'fit_time': array([20.50091887, 21.31059647, 20.58000946]), 'score_time': array([9.44046879, 9.83073425, 9.52172875]), 'test_score': array([0.7266436 , 0.74694784, 0.73115861]), 'train_score': array([0.77362762, 0.7746085 , 0.77893551])}\n"
     ]
    }
   ],
   "source": [
    "'''\n",
    "Without PCA:\n",
    "'fit_time': array([48.45315099, 49.18679333, 49.14396572]), \n",
    "'score_time': array([22.64499092, 23.42073154, 23.34550667]), \n",
    "'test_score': array([0.64055591, 0.68082524, 0.67186563]), \n",
    "'train_score': array([0.70620605, 0.69862595, 0.71303824])}\n",
    "'''\n",
    "\n",
    "'''\n",
    "with PCA\n",
    "using numerical_keyword_features\n",
    "svm_C = 1\n",
    "svm_kernel = \"rbf\"\n",
    "svm_gamma = \"scale\" # \"auto\" or \"scale\"\n",
    "\n",
    "'fit_time': array([21.40067339, 21.66516542, 21.43422079]), \n",
    "'score_time': array([ 9.91457796, 10.0454669 ,  9.95311713]), \n",
    "'test_score': array([0.72622478, 0.75140607, 0.72983644]), \n",
    "'train_score': array([0.7757987 , 0.77254902, 0.77514124])\n",
    "'''\n",
    "svm_C = 1\n",
    "svm_kernel = \"rbf\"\n",
    "svm_gamma = \"scale\" # \"auto\" or \"scale\"\n",
    "svm_1 = SVC(C=svm_C, kernel=svm_kernel, gamma=svm_gamma)\n",
    "score_1 = cross_validate(svm_1, train_X_pca, y_train, cv=3, scoring=\"f1\")\n",
    "print(score_1)\n",
    "\n"
   ]
  }
 ],
 "metadata": {
  "kernelspec": {
   "display_name": "Python 3",
   "language": "python",
   "name": "python3"
  },
  "language_info": {
   "codemirror_mode": {
    "name": "ipython",
    "version": 3
   },
   "file_extension": ".py",
   "mimetype": "text/x-python",
   "name": "python",
   "nbconvert_exporter": "python",
   "pygments_lexer": "ipython3",
   "version": "3.6.1"
  }
 },
 "nbformat": 4,
 "nbformat_minor": 2
}
